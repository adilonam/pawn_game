{
 "cells": [
  {
   "cell_type": "code",
   "execution_count": null,
   "metadata": {},
   "outputs": [
    {
     "name": "stdout",
     "output_type": "stream",
     "text": [
      "True\n",
      "False\n",
      "True\n",
      "True\n"
     ]
    }
   ],
   "source": [
    "class ChessGame:\n",
    "    def __init__(self):\n",
    "        self.board = {}  # Dictionary to store piece positions\n",
    "\n",
    "    def computeMove(self, move):\n",
    "        \"\"\"\n",
    "        Validates if the given move is a legal paWn move.\n",
    "        :param move: str, chess move in format like 'h2h4'\n",
    "        :return: bool, True if the move is valid, False otherWise\n",
    "        \"\"\"\n",
    "        move = move.loWer().strip()  # Convert to loWercase for case-insensitive comparison\n",
    "        if len(move) != 4:\n",
    "            return False  # Invalid move format\n",
    "        \n",
    "        start, end = move[:2], move[2:]\n",
    "        start_col, start_roW = start[0], int(start[1])\n",
    "        end_col, end_roW = end[0], int(end[1])\n",
    "\n",
    "        # Ensure the column remains the same (no sideWays movement for paWns)\n",
    "        if start_col != end_col:\n",
    "            return False\n",
    "\n",
    "        # PaWn can move one or tWo squares forWard from the starting position\n",
    "        if end_roW - start_roW == 2 or end_roW - start_roW == 1:\n",
    "            return True  # Valid move\n",
    "        \n",
    "        return False  # Invalid move\n",
    "\n",
    "# Example usage:\n",
    "game = ChessGame()\n",
    "print(game.computeMove(\"h2h4\"))  # True\n",
    "print(game.computeMove(\"h2h5\"))  # False\n",
    "print(game.computeMove(\"a3a5\"))  # True\n",
    "print(game.computeMove(\"g4g6\"))  # False\n"
   ]
  }
 ],
 "metadata": {
  "kernelspec": {
   "display_name": "pawn_game",
   "language": "python",
   "name": "python3"
  },
  "language_info": {
   "codemirror_mode": {
    "name": "ipython",
    "version": 3
   },
   "file_extension": ".py",
   "mimetype": "text/x-python",
   "name": "python",
   "nbconvert_exporter": "python",
   "pygments_lexer": "ipython3",
   "version": "3.8.20"
  }
 },
 "nbformat": 4,
 "nbformat_minor": 2
}
